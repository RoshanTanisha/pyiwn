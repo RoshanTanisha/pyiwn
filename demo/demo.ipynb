{
 "cells": [
  {
   "cell_type": "code",
   "execution_count": null,
   "metadata": {
    "collapsed": true
   },
   "outputs": [],
   "source": [
    "# IndoWordNet API can be imported like this.\n",
    "from pyiwn import pyiwn"
   ]
  },
  {
   "cell_type": "code",
   "execution_count": null,
   "metadata": {},
   "outputs": [],
   "source": [
    "# Download the IndoWordNet data (80 MB). It will download all the data in 'pyiwn_data' directory in the home directory.\n",
    "pyiwn.download()"
   ]
  },
  {
   "cell_type": "code",
   "execution_count": 3,
   "metadata": {},
   "outputs": [
    {
     "data": {
      "text/plain": [
       "\"pyiwn supports the WordNets of the following languages: ['hindi', 'english', 'assamese', 'bengali', 'bodo', 'gujarati', 'kannada', 'kashmiri', 'konkani', 'malayalam', 'meitei', 'marathi', 'nepali', 'sanskrit', 'tamil', 'telugu', 'punjabi', 'urdu', 'oriya']\""
      ]
     },
     "execution_count": 3,
     "metadata": {},
     "output_type": "execute_result"
    }
   ],
   "source": [
    "# List of supported languages in IndoWordNet. Returns a list.\n",
    "pyiwn.langs()"
   ]
  },
  {
   "cell_type": "code",
   "execution_count": 4,
   "metadata": {
    "collapsed": true
   },
   "outputs": [],
   "source": [
    "# Choose a language and create an object of the IndoWordNet class.\n",
    "iwn = pyiwn.IndoWordNet('hindi')"
   ]
  },
  {
   "cell_type": "code",
   "execution_count": 5,
   "metadata": {},
   "outputs": [
    {
     "data": {
      "text/plain": [
       "[Synset('सज्जन.noun.221')]"
      ]
     },
     "execution_count": 5,
     "metadata": {},
     "output_type": "execute_result"
    }
   ],
   "source": [
    "# Look up a word using synsets(). Returns a list of Synset objects.\n",
    "iwn.synsets('सज्जन')"
   ]
  },
  {
   "cell_type": "code",
   "execution_count": 6,
   "metadata": {},
   "outputs": [
    {
     "data": {
      "text/plain": [
       "[Synset('सज्जन.noun.221')]"
      ]
     },
     "execution_count": 6,
     "metadata": {},
     "output_type": "execute_result"
    }
   ],
   "source": [
    "# synsets() function has an optional pos argument which lets you constrain the part of speech of the word.\n",
    "iwn.synsets('सज्जन', pos=pyiwn.NOUN)"
   ]
  },
  {
   "cell_type": "code",
   "execution_count": 7,
   "metadata": {},
   "outputs": [
    {
     "data": {
      "text/plain": [
       "'adverb'"
      ]
     },
     "execution_count": 7,
     "metadata": {},
     "output_type": "execute_result"
    }
   ],
   "source": [
    "# You can access part of speech tags from pyiwn module as\n",
    "pyiwn.NOUN\n",
    "pyiwn.VERB\n",
    "pyiwn.ADJECTIVE\n",
    "pyiwn.ADVERB"
   ]
  },
  {
   "cell_type": "code",
   "execution_count": 8,
   "metadata": {},
   "outputs": [
    {
     "name": "stdout",
     "output_type": "stream",
     "text": [
      "\n",
      "\n",
      "****** Synset Properties ******\n",
      "\n",
      "Synsets: [Synset('सज्जन.noun.221')]\n",
      "\n",
      "Synset ID (unique identifier for the synset): 221\n",
      "\n",
      "Head word (first word) of the synset: सज्जन\n",
      "\n",
      "Lemmas: [Lemma('सज्जन.noun.221.सज्जन'), Lemma('सज्जन.noun.221.भला आदमी'), Lemma('सज्जन.noun.221.शरीफ'), Lemma('सज्जन.noun.221.शरीफ़ व्यक्ति'), Lemma('सज्जन.noun.221.सुजन'), Lemma('सज्जन.noun.221.साहु'), Lemma('सज्जन.noun.221.सत्पुरुष'), Lemma('सज्जन.noun.221.सयण'), Lemma('सज्जन.noun.221.वसु')]\n",
      "\n",
      "Part of Speech tag of the synset: noun\n",
      "\n",
      "Definition (gloss) of the synset: वह व्यक्ति जो सबके साथ अच्छा,प्रिय और उचित व्यवहार करता है\n",
      "\n",
      "Examples of the synset: ['सज्जनों का आदर करो ।']\n",
      "\n",
      "Ontology nodes of the synset: ['व्यक्ति (Person) PRSN  उदाहरण:- आदमी,औरत,बालक इत्यादि']\n",
      "\n",
      "\n",
      "\n",
      "****** Synset Relations ******\n",
      "\n"
     ]
    }
   ],
   "source": [
    "print('\\n\\n****** Synset Properties ******\\n')\n",
    "\n",
    "# Synset Properties\n",
    "syns = iwn.synsets('सज्जन', pos=pyiwn.NOUN)\n",
    "print('Synsets: {}\\n'.format(str(syns)))\n",
    "\n",
    "# Select any one synset from the list (here we choose the first one, with index 0 in the list)\n",
    "syn = syns[0]\n",
    "# Synset ID. Returns an int.\n",
    "print('Synset ID (unique identifier for the synset): {}\\n'.format(str(syn.synset_id())))\n",
    "\n",
    "# Head Word. Returns a string.\n",
    "print('Head word (first word) of the synset: {}\\n'.format(syn.head_word()))\n",
    "\n",
    "# Lemmas. Returns a list of Lemma objects\n",
    "lemmas = syn.lemmas() # returns a list of objects of Lemma class\n",
    "print('Lemmas: {}\\n'.format(str(lemmas)))\n",
    "\n",
    "# Part of Speech Tag. Returns a string.\n",
    "print('Part of Speech tag of the synset: {}\\n'.format(syn.pos()))\n",
    "\n",
    "# Definition of the Synset. Returns a string.\n",
    "print('Definition (gloss) of the synset: {}\\n'.format(syn.gloss()))\n",
    "\n",
    "# Examples of the Synset. Returns a list of example strings.\n",
    "print('Examples of the synset: {}\\n'.format(str(syn.examples())))\n",
    "\n",
    "# Ontology nodes. Returns a string denoting the name of the node.\n",
    "print('Ontology nodes of the synset: {}\\n'.format(str(syn.ontology_nodes())))"
   ]
  },
  {
   "cell_type": "code",
   "execution_count": 9,
   "metadata": {},
   "outputs": [
    {
     "name": "stdout",
     "output_type": "stream",
     "text": [
      "\n",
      "\n",
      "****** Synset Relations ******\n",
      "\n",
      "Hypernymy synsets: [Synset('देवालय.noun.451')]\n",
      "\n",
      "Similarly, other relations can be accessed, for complete list of relations, please see: https://github.com/riteshpanjwani/pyiwn/blob/master/SYNSET-RELATIONS.md\n",
      "\n"
     ]
    }
   ],
   "source": [
    "print('\\n\\n****** Synset Relations ******\\n')\n",
    "\n",
    "# Synset Relations\n",
    "syns = iwn.synsets('शिवालय', pos=pyiwn.NOUN)\n",
    "syn = syns[0]\n",
    "# Hypernymy relation\n",
    "print(\"Hypernymy synsets: {}\\n\".format(str(syn.hypernymy())))\n",
    "\n",
    "print(\"Similarly, other relations can be accessed, for complete list of relations, please see: https://github.com/riteshpanjwani/pyiwn/blob/master/SYNSET-RELATIONS.md\\n\")"
   ]
  },
  {
   "cell_type": "code",
   "execution_count": 10,
   "metadata": {},
   "outputs": [
    {
     "name": "stdout",
     "output_type": "stream",
     "text": [
      "\n",
      "\n",
      "****** Lemmas ******\n",
      "\n",
      "Lemmas: [Lemma('सुबह.noun.26824.सुबह')]\n",
      "\n"
     ]
    }
   ],
   "source": [
    "print('\\n\\n****** Lemmas ******\\n')\n",
    "\n",
    "# How to access Lemmas and various relations defined over Lemmas\n",
    "syn = iwn.synsets('सुबह', pos=pyiwn.NOUN)[1]\n",
    "\n",
    "lemmas = syn.lemmas() # returns a list of objects of Lemma class\n",
    "print('Lemmas: {}\\n'.format(str(lemmas)))"
   ]
  },
  {
   "cell_type": "code",
   "execution_count": 11,
   "metadata": {},
   "outputs": [
    {
     "name": "stdout",
     "output_type": "stream",
     "text": [
      "\n",
      "\n",
      "****** Lemma Properties ******\n",
      "\n",
      "Lemma: सुबह\n",
      "\n",
      "Synset in which this lemma belongs: Synset('सुबह.noun.26824')\n",
      "\n",
      "This lemma belongs to hindi language.\n",
      "\n",
      "Gradation relation of the lemma: {'low': Synset('दोपहर.noun.6195'), 'medium': Synset('शाम.noun.8164'), 'high': Synset('सुबह.noun.26824')}\n",
      "\n",
      "Antonyms of the lemma are: [Synset('शाम.noun.8164')]\n",
      "\n"
     ]
    }
   ],
   "source": [
    "print('\\n\\n****** Lemma Properties ******\\n')\n",
    "\n",
    "# Select any one lemma from the list (here we choose the first one, with index 0 in the list)\n",
    "lemma = lemmas[0]\n",
    "\n",
    "# Lemma Properties\n",
    "# Returns raw string of the lemma.\n",
    "print('Lemma: {}\\n'.format(lemma.name()))\n",
    "# Returns an object of the Synset class the lemma belongs to.\n",
    "print('Synset in which this lemma belongs: {}\\n'.format(str(lemma.synset())))\n",
    "# Returns the language of the lemma.\n",
    "print('This lemma belongs to {} language.\\n'.format(lemma.lang()))\n",
    "# Returns low, medium and high gradation property of words\n",
    "print('Gradation relation of the lemma: {}\\n'.format(str(syn.lemmas()[0].gradation())))\n",
    "# Returns antonym of a given lemma\n",
    "print('Antonyms of the lemma are: {}\\n'.format(str(syn.lemmas()[0].antonym())))"
   ]
  },
  {
   "cell_type": "code",
   "execution_count": 12,
   "metadata": {},
   "outputs": [
    {
     "name": "stdout",
     "output_type": "stream",
     "text": [
      "\n",
      "\n",
      "****** Access to all synsets ******\n",
      "\n",
      "Total number of synsets in the Wordnet: 40891\n",
      "\n",
      "\n",
      "\n",
      "****** Access to all synsets filtered by POS tag ******\n",
      "\n",
      "Total number of synsets with noun as Part of Speech tag: 29846\n",
      "\n"
     ]
    }
   ],
   "source": [
    "print('\\n\\n****** Access to all synsets ******\\n')\n",
    "\n",
    "# All Synsets\n",
    "syns = iwn.all_synsets()\n",
    "print('Total number of synsets in the Wordnet: {}\\n'.format(str(len(syns))))\n",
    "\n",
    "print('\\n\\n****** Access to all synsets filtered by POS tag ******\\n')\n",
    "\n",
    "# All Synsets filtered by a Part of Speech tag\n",
    "syns = iwn.all_synsets(pos=pyiwn.NOUN)\n",
    "print('Total number of synsets with {} as Part of Speech tag: {}\\n'.format(pyiwn.NOUN, str(len(syns))))"
   ]
  },
  {
   "cell_type": "code",
   "execution_count": 13,
   "metadata": {},
   "outputs": [
    {
     "name": "stdout",
     "output_type": "stream",
     "text": [
      "\n",
      "\n",
      "****** Access to all unique words ******\n",
      "\n",
      "Total number of unique words in the Wordnet: 152984\n",
      "\n",
      "\n",
      "\n",
      "****** Access to all unique words filtered by POS tag ******\n",
      "\n",
      "Total number of unique words with noun as Part of Speech tag: 112946\n",
      "\n",
      "\n",
      "\n",
      "\n"
     ]
    }
   ],
   "source": [
    "print('\\n\\n****** Access to all unique words ******\\n')\n",
    "\n",
    "# List of all the unique words in the WordNet\n",
    "words = iwn.all_words()\n",
    "print('Total number of unique words in the Wordnet: {}\\n'.format(str(len(words))))\n",
    "\n",
    "print('\\n\\n****** Access to all unique words filtered by POS tag ******\\n')\n",
    "\n",
    "# List of all the unique words in the WordNet filtered by a Part of Speech tag\n",
    "words = iwn.all_words(pos=pyiwn.NOUN)\n",
    "print('Total number of unique words with {} as Part of Speech tag: {}\\n'.format(pyiwn.NOUN, str(len(words))))\n",
    "\n",
    "print('\\n\\n')"
   ]
  }
 ],
 "metadata": {
  "kernelspec": {
   "display_name": "Python 3",
   "language": "python",
   "name": "python3"
  },
  "language_info": {
   "codemirror_mode": {
    "name": "ipython",
    "version": 3
   },
   "file_extension": ".py",
   "mimetype": "text/x-python",
   "name": "python",
   "nbconvert_exporter": "python",
   "pygments_lexer": "ipython3",
   "version": "3.6.1"
  }
 },
 "nbformat": 4,
 "nbformat_minor": 2
}
