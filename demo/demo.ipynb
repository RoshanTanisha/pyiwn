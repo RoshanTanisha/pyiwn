{
 "cells": [
  {
   "cell_type": "code",
   "execution_count": 1,
   "metadata": {
    "collapsed": true
   },
   "outputs": [],
   "source": [
    "# IndoWordNet API can be imported like this.\n",
    "from pyiwn import pyiwn"
   ]
  },
  {
   "cell_type": "code",
   "execution_count": 4,
   "metadata": {},
   "outputs": [
    {
     "name": "stdout",
     "output_type": "stream",
     "text": [
      "Downloading pyiwn data (80 MB)...\n",
      "Extracting pyiwn data...\n",
      "Download successful.\n"
     ]
    }
   ],
   "source": [
    "# Download the IndoWordNet data (80 MB). It will download all the data in 'pyiwn_data' directory in the home directory.\n",
    "pyiwn.download()"
   ]
  },
  {
   "cell_type": "code",
   "execution_count": 5,
   "metadata": {},
   "outputs": [
    {
     "data": {
      "text/plain": [
       "['hindi',\n",
       " 'english',\n",
       " 'assamese',\n",
       " 'bengali',\n",
       " 'bodo',\n",
       " 'gujarati',\n",
       " 'kannada',\n",
       " 'kashmiri',\n",
       " 'konkani',\n",
       " 'malayalam',\n",
       " 'meitei',\n",
       " 'marathi',\n",
       " 'nepali',\n",
       " 'sanskrit',\n",
       " 'tamil',\n",
       " 'telugu',\n",
       " 'punjabi',\n",
       " 'urdu',\n",
       " 'oriya']"
      ]
     },
     "execution_count": 5,
     "metadata": {},
     "output_type": "execute_result"
    }
   ],
   "source": [
    "# List of supported languages in IndoWordNet. Returns a list.\n",
    "pyiwn.langs()"
   ]
  },
  {
   "cell_type": "code",
   "execution_count": 2,
   "metadata": {
    "collapsed": true
   },
   "outputs": [],
   "source": [
    "# Choose a language and create an object of the IndoWordNet class.\n",
    "iwn = pyiwn.IndoWordNet('marathi')"
   ]
  },
  {
   "cell_type": "code",
   "execution_count": 7,
   "metadata": {},
   "outputs": [
    {
     "data": {
      "text/plain": [
       "[Synset('व्यवस्थित.adjective.1004')]"
      ]
     },
     "execution_count": 7,
     "metadata": {},
     "output_type": "execute_result"
    }
   ],
   "source": [
    "# Look up a word using synsets(). Returns a list of Synset objects.\n",
    "iwn.synsets('व्यवस्थित')"
   ]
  },
  {
   "cell_type": "code",
   "execution_count": 8,
   "metadata": {},
   "outputs": [
    {
     "data": {
      "text/plain": [
       "[Synset('व्यवस्थित.adjective.1004')]"
      ]
     },
     "execution_count": 8,
     "metadata": {},
     "output_type": "execute_result"
    }
   ],
   "source": [
    "# synsets() function has an optional pos argument which lets you constrain the part of speech of the word.\n",
    "iwn.synsets('व्यवस्थित', pos=pyiwn.ADJECTIVE)"
   ]
  },
  {
   "cell_type": "code",
   "execution_count": 9,
   "metadata": {},
   "outputs": [
    {
     "data": {
      "text/plain": [
       "'adverb'"
      ]
     },
     "execution_count": 9,
     "metadata": {},
     "output_type": "execute_result"
    }
   ],
   "source": [
    "# You can access part of speech tags from pyiwn module as\n",
    "pyiwn.NOUN\n",
    "pyiwn.VERB\n",
    "pyiwn.ADJECTIVE\n",
    "pyiwn.ADVERB"
   ]
  },
  {
   "cell_type": "code",
   "execution_count": 10,
   "metadata": {},
   "outputs": [
    {
     "name": "stdout",
     "output_type": "stream",
     "text": [
      "1004\n",
      "व्यवस्थित\n",
      "['व्यवस्थित', 'प्रबंधित', 'विन्यस्त', 'ठीक', 'सलीकेदार', 'तरतीबदार', 'समाहित', 'व्यवस्थागत']\n",
      "[Lemma('व्यवस्थित.adjective.1004.व्यवस्थित'), Lemma('व्यवस्थित.adjective.1004.प्रबंधित'), Lemma('व्यवस्थित.adjective.1004.विन्यस्त'), Lemma('व्यवस्थित.adjective.1004.ठीक'), Lemma('व्यवस्थित.adjective.1004.सलीकेदार'), Lemma('व्यवस्थित.adjective.1004.तरतीबदार'), Lemma('व्यवस्थित.adjective.1004.समाहित'), Lemma('व्यवस्थित.adjective.1004.व्यवस्थागत')]\n",
      "adjective\n",
      "जिसमें किसी प्रकार की व्यवस्था या नियम हो\n",
      "['उसने कमरे की व्यवस्थित वस्तुओं को बिखेर दिया ।']\n",
      "['गुणसूचक (Qualitative) QUAL   उदाहरण :- बुद्धिमान, अच्छा, मूर्ख इत्यादि']\n"
     ]
    }
   ],
   "source": [
    "# Synset Properties\n",
    "\n",
    "syns = iwn.synsets('व्यवस्थित', pos=pyiwn.ADJECTIVE)\n",
    "syn = syns[0]\n",
    "\n",
    "# Synset ID. Returns an int.\n",
    "print(syn.synset_id())\n",
    "\n",
    "# Head Word. Returns a string.\n",
    "print(syn.head_word())\n",
    "\n",
    "# Lemmas. Returns a list of Lemma objects\n",
    "print(syn.lemma_names())\n",
    "print(syn.lemmas())\n",
    "\n",
    "# Part of Speech Tag. Returns a string.\n",
    "print(syn.pos())\n",
    "\n",
    "# Definition of the Synset. Returns a string.\n",
    "print(syn.gloss())\n",
    "\n",
    "# Examples of the Synset. Returns a list of example strings.\n",
    "print(syn.examples())\n",
    "\n",
    "# Ontology nodes. Returns a string denoting the name of the node.\n",
    "print(syn.ontology_nodes())"
   ]
  },
  {
   "cell_type": "code",
   "execution_count": 11,
   "metadata": {},
   "outputs": [
    {
     "name": "stdout",
     "output_type": "stream",
     "text": [
      "[Synset('देवालय.noun.451')]\n"
     ]
    }
   ],
   "source": [
    "# Synset Relations\n",
    "\n",
    "syns = iwn.synsets('शिवालय', pos=pyiwn.NOUN)\n",
    "syn = syns[0]\n",
    "\n",
    "# Hypernymy relation\n",
    "print(syn.hypernymy())\n",
    "\n",
    "# Similarly, other relations can be accessed, for complete list of relations, please see: https://github.com/riteshpanjwani/pyiwn/blob/master/SYNSET-RELATIONS.md"
   ]
  },
  {
   "cell_type": "code",
   "execution_count": 12,
   "metadata": {},
   "outputs": [
    {
     "name": "stdout",
     "output_type": "stream",
     "text": [
      "[Lemma('सुबह.noun.26824.सुबह')]\n",
      "सुबह\n",
      "Synset('सुबह.noun.26824')\n",
      "hindi\n",
      "{'low': Synset('दोपहर.noun.6195'), 'medium': Synset('शाम.noun.8164'), 'high': Synset('सुबह.noun.26824')}\n",
      "[Synset('शाम.noun.8164')]\n"
     ]
    }
   ],
   "source": [
    "# Lemmas\n",
    "\n",
    "syn = iwn.synsets('सुबह', pos=pyiwn.NOUN)[1]\n",
    "\n",
    "lemmas = syn.lemmas() # returns a list of objects of Lemma class\n",
    "print(lemmas)\n",
    "lemma = lemmas[0]\n",
    "\n",
    "# Lemma Properties\n",
    "\n",
    "# Returns raw string of the lemma.\n",
    "print(lemma.name())\n",
    "\n",
    "# Returns an object of the Synset class the lemma belongs to.\n",
    "print(lemma.synset())\n",
    "\n",
    "# Returns the language of the lemma.\n",
    "print(lemma.lang())\n",
    "\n",
    "# Returns low, medium and high gradation property of words\n",
    "print(syn.lemmas()[0].gradation())\n",
    "\n",
    "# Returns antonym of a given lemma\n",
    "print(syn.lemmas()[0].antonym())"
   ]
  },
  {
   "cell_type": "code",
   "execution_count": 3,
   "metadata": {},
   "outputs": [
    {
     "name": "stdout",
     "output_type": "stream",
     "text": [
      "['2557', 'सजवणे,नटवणे,शृंगारणे', 'चांगले दिसेल वा भासेल असे करणे:\"त्याने आपली खोली सजवली\"', 'verb', 'noun']\n",
      "\n",
      "\n",
      "['2961', 'जोत', 'जुंपलेल्या जनावराच्या गळ्यात जु अडकविण्याचा पट्टा किंवा रशी:\"बैलाच्या गळ्याभोवतीचा जोत काढून त्याने बैलाला मोकळे केले\"', 'noun', 'noun']\n",
      "\n",
      "\n",
      "['51322', 'कवडी,कपर्दीक,कपर्दिका', 'जुन्या काळचे नाणे:\"त्याने माझ्याकडून या कामाची एक कवडीपण नाही घेतली.\"', 'noun', 'verb']\n",
      "\n",
      "\n",
      "['51326', 'खडसावणे,खडकावणे,खणकावणे,खमकावणे,चमकवणे,दाटणे,कडकावणे,झाडणे', 'दोष किंवा अपराध दाखवून रागवणे:\"कामचुकारपणाबद्दल नोकराला मालकाने चांगले खडसावले.\"', 'verb', 'noun']\n",
      "\n",
      "\n",
      "['51336', 'खाक्या,बाणा', 'ठराविक वर्तनक्रम:\"शेवटी त्याने आपला पोलिसी खाक्या दाखवला.\"', 'noun', 'noun']\n",
      "\n",
      "\n",
      "['32612', 'पूरु', 'एक राक्षस:\"पूरुचे वर्णन पुराणांत आढळते.\"', 'noun', 'verb']\n",
      "\n",
      "\n",
      "['51692', 'नल्ल', 'नल्ल', 'noun', 'noun']\n",
      "\n",
      "\n",
      "['36727', 'बोळा', 'व्यवस्थित घडी न करता कसेतरी गोळा केलेले कापड, कागद इत्यादी:\"खोलीत जिकडेतिकडे कागदाचे बोळे पडले होते\"', 'noun', 'noun']\n",
      "\n",
      "\n",
      "['52193', 'भर', 'मूळ गोष्टीत केलेला अधिकचा समावेश:\"भाषेत रोज नव्या शब्दांची भर पडतच असते\"', 'noun', 'noun']\n",
      "\n",
      "\n",
      "['37522', 'लोकापवाद,लोकप्रवाद,जननिंदा', 'लोकांनी केलेली निंदा:\"राम, कृष्णांसारख्या अलौकिक व्यक्तींनाही लोकापवाद सहन करावा लागला.\"', 'noun', 'noun']\n",
      "\n",
      "\n",
      "['3909', 'सलगी,जवळीक', 'एखाद्याच्या खूप जवळ असण्याचा भाव:\"त्या दोघांमध्ये खूप सलगी आहे\"', 'noun', 'noun']\n",
      "\n",
      "\n",
      "['52837', 'कसणे', 'जमीन पीक घेण्यायोग्य करणे:\"शेतकर्\\u200dयांनी पडीक जमीन मोठ्या प्रयत्नाने कसली.\"', 'verb', 'adjective']\n",
      "\n",
      "\n",
      "['53580', 'चुरडणे', 'दाबून अगदी चुरा करणे:\"मुलांनी दिलेली फुले त्यांनी पायाखाली चुरडली.\"', 'verb', 'noun']\n",
      "\n",
      "\n",
      "['20413', 'किलवर', 'पत्त्यावरील चार खुणांपैकी एक तीन दळे व खालच्या बाजूस देठ असलेल्या फुलाच्या आकाराची खूण:\"किलवरची दुर्री माझ्याकडे आहे.\"', 'noun', 'noun']\n",
      "\n",
      "\n",
      "['37773', 'विजिगीषा,जिगीषा', 'जिंकण्याची इच्छा:\"त्याच्या दुर्दम्य विजिगीषेमुळे संकटांचे त्याला काही वाटत नसे./सिकंदराची विजिगीषाच त्याला भारतात घेऊन आली होता.\"', 'noun', 'adjective']\n",
      "\n",
      "\n",
      "['37535', 'जुना,जुनापाना', 'फार दिवस वापरलेला:\"त्याने जुने कपडे बोहारणीला दिले.\"', 'adjective', 'adjective']\n",
      "\n",
      "\n",
      "['16621', 'अन्नछत्र', 'ज्या ठिकाणी याचकांना अन्नदान करण्याचे धर्मकृत्य चालते ते ठिकाण:\"आम्ही इथे  अन्नछत्र कुठे आहे ह्याची चौकशी करू लागलो.\"', 'noun', 'noun']\n",
      "\n",
      "\n",
      "['18864', 'अथेन्स', 'युरोपच्या ग्रीस ह्या देशाची राजधानी:\"अथेन्स येथे आयातनिर्यात व्यापाऱ्यांच्या मुख्य कचेऱ्या आहेत.\"', 'noun', 'adjective']\n",
      "\n",
      "\n",
      "['37119', 'विमेदार', 'जिने विमा उतरवला आहे ती व्यक्ती:\"विमेदाराने विम्याचे हप्ते वेळेवर भरले नाहीत तर त्याला विम्याचे लाभही मिळणार नाहीत.\"', 'noun', 'noun']\n",
      "\n",
      "\n",
      "['4985', 'वत्सनाभ,बचनाभ', 'विषाचा एक प्रकार:\"वत्सनाभ चवीला गोड असतो.\"', 'noun', 'adjective']\n",
      "\n",
      "\n",
      "['54444', 'कारळा', 'एक वर्षायू, बळकट बिनदेठांच्या लांबट पानांचे झुडूप:\"कारळ्याच्या फुलांचा रंग  पिवळा असून फुलांचा रंग काळा असतो.\"', 'noun', 'noun']\n",
      "\n",
      "\n",
      "['11827', 'जन्मसिद्ध,जन्मजात', 'एखाद्याच्या जन्मापासून त्या व्यक्तीस मिळालेला:\"स्वातंत्र्य हा आमचा जन्मसिद्ध हक्क आहे.\"', 'adjective', 'adjective']\n",
      "\n",
      "\n",
      "['12106', 'हमाल', 'वजन वा सामान पाठीवर वा डोक्यावर घेऊन, वाहून घेऊन जाणारी व्यक्ती:\"आज हमालांचा संप आहे.\"', 'noun', 'noun']\n",
      "\n",
      "\n",
      "['671', 'आदर्शवादी', 'आदर्शवाद असलेला अथवा आदर्शवादाशी संबंधित:\"त्याची विचारधार आदर्शवादी आहे.\"', 'adjective', 'noun']\n",
      "\n",
      "\n",
      "['3392', 'श्रद्धा,आस्था,निष्ठा,आदरभाव', 'ईश्वर, धर्म किंवा व्यक्तींविषयी आदरयुक्त आणि पूज्य भाव:\"देवाविषयी मनात श्रद्धा असली पाहिजे.\"', 'noun', 'noun']\n",
      "\n",
      "\n",
      "['23896', 'भुणभुणने', 'मनातल्या मनात कुढून अस्पष्ट शब्दात काही बोलणे:\"काम करायला सांगताच तो भुणभुणू लागला.\"', 'verb', 'verb']\n",
      "\n",
      "\n",
      "['28096', 'रानडुक्कर,रानटी डुक्कर', 'रानटी डुक्कर:\"काही भागांमध्ये रानडुकरांच्या उपद्रवाने शेतकरी त्रस्त आहेत./रानडुक्कर हे धोकादायक असतात.\"', 'noun', 'noun']\n",
      "\n",
      "\n",
      "['33976', 'उगवण', 'उगवण्याची क्रिया:\"ह्यावर्षी ज्वारीची उगवण चांगली झाली.\"', 'noun', 'noun']\n",
      "\n",
      "\n",
      "['4105', 'पुरेसापणा,पर्याप्तता,पुरेपणा', 'पुरेसा असण्याची अवस्था किंवा भाव:\"अन्नाचा पुरेसेपणा ह्यामुळे आपल्याला कधी उपाशी मरावे लागणार नाही.\"', 'noun', 'noun']\n",
      "\n",
      "\n",
      "['38949', 'शब्दसंक्षेप', 'शब्दाचे संक्षिप्त रुप:\"उत्तरप्रदेशाचा शब्दसंक्षेप उ. प्र. आहे.\"', 'noun', 'noun']\n",
      "\n",
      "\n",
      "['37803', 'योगमाया', 'धार्मिक ग्रंथांनुसार ईश्वर किंवा ब्रह्माची माया ज्यामुळे नाव, गुण आणि रूपाने युक्त ही संपूर्ण सृष्टी बनली असून ती ईश्वर आणि ब्रह्माच्या तत्त्वाने व्याप्त आहे:\"योगमायेला ईश्वरची शक्तीदेखील म्हटले आहे.\"', 'noun', 'adverb']\n",
      "\n",
      "\n",
      "['12391', 'शय्यादान', 'मृतकाच्या नावाने महाब्राह्मणास खाट, अंथरूण, पांघरूण, भांडी इत्यादी दान करण्याची क्रिया:\"शय्यादान करून लोक स्वतःला उद्धरित करतात.\"', 'noun', 'noun']\n",
      "\n",
      "\n",
      "32202\n"
     ]
    }
   ],
   "source": [
    "# All Synsets\n",
    "\n",
    "syns = iwn.all_synsets()\n",
    "print(len(syns))"
   ]
  },
  {
   "cell_type": "code",
   "execution_count": 7,
   "metadata": {},
   "outputs": [
    {
     "name": "stdout",
     "output_type": "stream",
     "text": [
      "29846\n"
     ]
    }
   ],
   "source": [
    "# All Synsets filtered by a Part of Speech tag\n",
    "\n",
    "syns = iwn.all_synsets(pos=pyiwn.NOUN)\n",
    "print(len(syns))"
   ]
  },
  {
   "cell_type": "code",
   "execution_count": 13,
   "metadata": {},
   "outputs": [
    {
     "name": "stdout",
     "output_type": "stream",
     "text": [
      "152984\n"
     ]
    }
   ],
   "source": [
    "# List of all the unique words in the WordNet\n",
    "\n",
    "words = iwn.all_words()\n",
    "print(len(words))"
   ]
  },
  {
   "cell_type": "code",
   "execution_count": 14,
   "metadata": {},
   "outputs": [
    {
     "name": "stdout",
     "output_type": "stream",
     "text": [
      "112946\n"
     ]
    }
   ],
   "source": [
    "# List of all the unique words in the WordNet filtered by a Part of Speech tag\n",
    "\n",
    "words = iwn.all_words(pos=pyiwn.NOUN)\n",
    "print(len(words))"
   ]
  }
 ],
 "metadata": {
  "kernelspec": {
   "display_name": "Python 3",
   "language": "python",
   "name": "python3"
  },
  "language_info": {
   "codemirror_mode": {
    "name": "ipython",
    "version": 3
   },
   "file_extension": ".py",
   "mimetype": "text/x-python",
   "name": "python",
   "nbconvert_exporter": "python",
   "pygments_lexer": "ipython3",
   "version": "3.6.1"
  }
 },
 "nbformat": 4,
 "nbformat_minor": 2
}
